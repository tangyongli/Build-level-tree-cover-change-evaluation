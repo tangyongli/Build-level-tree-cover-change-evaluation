{
 "cells": [
  {
   "cell_type": "code",
   "execution_count": 92,
   "metadata": {},
   "outputs": [],
   "source": [
    "import pandas as pd\n",
    "import geopandas as gpd\n",
    "pd.options.mode.chained_assignment = None\n",
    "import warnings\n",
    "# 忽略所有警告\n",
    "warnings.filterwarnings(\"ignore\")"
   ]
  },
  {
   "cell_type": "code",
   "execution_count": null,
   "metadata": {},
   "outputs": [],
   "source": [
    "## tree cover of each cluster exported by gee\n",
    "df2010=pd.read_csv(\"../Data/Processed/treecover_fromgee/export2010.csv\")\n",
    "df2022=pd.read_csv(\"../Data/Processed/treecover_fromgee/export2022.csv\")\n",
    "## for cluster id, gee will export 'int' types,which means fips code '037' will be turned to '37'\n",
    "df2022['cluster2022'] = df2022['cluster2022'].astype(str).apply(lambda x: x if x.startswith('111') else ('0'+x))\n",
    "df2010['cluster2010'] = df2010['cluster2010'].astype(str).apply(lambda x: x if x.startswith('111') else ('0'+x))"
   ]
  },
  {
   "cell_type": "code",
   "execution_count": 95,
   "metadata": {},
   "outputs": [
    {
     "data": {
      "text/html": [
       "<div>\n",
       "<style scoped>\n",
       "    .dataframe tbody tr th:only-of-type {\n",
       "        vertical-align: middle;\n",
       "    }\n",
       "\n",
       "    .dataframe tbody tr th {\n",
       "        vertical-align: top;\n",
       "    }\n",
       "\n",
       "    .dataframe thead th {\n",
       "        text-align: right;\n",
       "    }\n",
       "</style>\n",
       "<table border=\"1\" class=\"dataframe\">\n",
       "  <thead>\n",
       "    <tr style=\"text-align: right;\">\n",
       "      <th></th>\n",
       "      <th>COUNTYFP</th>\n",
       "      <th>areaall2010</th>\n",
       "      <th>areabare2010</th>\n",
       "      <th>areagrass2010</th>\n",
       "      <th>areatree2010</th>\n",
       "      <th>areaurban2010</th>\n",
       "      <th>cluster2010</th>\n",
       "    </tr>\n",
       "  </thead>\n",
       "  <tbody>\n",
       "    <tr>\n",
       "      <th>0</th>\n",
       "      <td>37</td>\n",
       "      <td>7021.268</td>\n",
       "      <td>650.640</td>\n",
       "      <td>254.771</td>\n",
       "      <td>33.212</td>\n",
       "      <td>6082.645</td>\n",
       "      <td>0372957000</td>\n",
       "    </tr>\n",
       "  </tbody>\n",
       "</table>\n",
       "</div>"
      ],
      "text/plain": [
       "   COUNTYFP  areaall2010  areabare2010  areagrass2010  areatree2010  \\\n",
       "0        37     7021.268       650.640        254.771        33.212   \n",
       "\n",
       "   areaurban2010 cluster2010  \n",
       "0       6082.645  0372957000  "
      ]
     },
     "execution_count": 95,
     "metadata": {},
     "output_type": "execute_result"
    }
   ],
   "source": [
    "df2010.head(1)"
   ]
  },
  {
   "cell_type": "code",
   "execution_count": 106,
   "metadata": {},
   "outputs": [
    {
     "data": {
      "text/html": [
       "<div>\n",
       "<style scoped>\n",
       "    .dataframe tbody tr th:only-of-type {\n",
       "        vertical-align: middle;\n",
       "    }\n",
       "\n",
       "    .dataframe tbody tr th {\n",
       "        vertical-align: top;\n",
       "    }\n",
       "\n",
       "    .dataframe thead th {\n",
       "        text-align: right;\n",
       "    }\n",
       "</style>\n",
       "<table border=\"1\" class=\"dataframe\">\n",
       "  <thead>\n",
       "    <tr style=\"text-align: right;\">\n",
       "      <th></th>\n",
       "      <th>FID_Califo</th>\n",
       "      <th>WUICLASS_2</th>\n",
       "      <th>WUIFLAG202</th>\n",
       "      <th>GEOID</th>\n",
       "      <th>FHSZ_7Clas</th>\n",
       "      <th>COUNTYFP</th>\n",
       "      <th>geometry</th>\n",
       "      <th>newhouse</th>\n",
       "      <th>cluster15</th>\n",
       "      <th>cluster50</th>\n",
       "      <th>allhousecountbybuffer50</th>\n",
       "      <th>allhousecountbybuffer15</th>\n",
       "      <th>housingclass</th>\n",
       "    </tr>\n",
       "  </thead>\n",
       "  <tbody>\n",
       "    <tr>\n",
       "      <th>0</th>\n",
       "      <td>3660</td>\n",
       "      <td>High_Dens_Interface</td>\n",
       "      <td>2.000</td>\n",
       "      <td>060730211022</td>\n",
       "      <td>SRA High</td>\n",
       "      <td>073</td>\n",
       "      <td>POLYGON ((-116.18654 32.62078, -116.18654 32.6209, -116.18639 32.62089, -116.18639 32.62097, -116.18636 32.62097, -116.18637 32.62087, -116.1864 32.62087, -116.1864 32.62082, -116.18645 32.62083, -116.18645 32.62078, -116.18654 32.62078))</td>\n",
       "      <td>0.000</td>\n",
       "      <td>07338722000</td>\n",
       "      <td>0736618000</td>\n",
       "      <td>290</td>\n",
       "      <td>170</td>\n",
       "      <td>very dense</td>\n",
       "    </tr>\n",
       "  </tbody>\n",
       "</table>\n",
       "</div>"
      ],
      "text/plain": [
       "   FID_Califo           WUICLASS_2  WUIFLAG202         GEOID FHSZ_7Clas  \\\n",
       "0        3660  High_Dens_Interface       2.000  060730211022   SRA High   \n",
       "\n",
       "  COUNTYFP  \\\n",
       "0      073   \n",
       "\n",
       "                                                                                                                                                                                                                                         geometry  \\\n",
       "0  POLYGON ((-116.18654 32.62078, -116.18654 32.6209, -116.18639 32.62089, -116.18639 32.62097, -116.18636 32.62097, -116.18637 32.62087, -116.1864 32.62087, -116.1864 32.62082, -116.18645 32.62083, -116.18645 32.62078, -116.18654 32.62078))   \n",
       "\n",
       "   newhouse    cluster15   cluster50  allhousecountbybuffer50  \\\n",
       "0     0.000  07338722000  0736618000                      290   \n",
       "\n",
       "   allhousecountbybuffer15 housingclass  \n",
       "0                      170   very dense  "
      ]
     },
     "execution_count": 106,
     "metadata": {},
     "output_type": "execute_result"
    }
   ],
   "source": [
    "\n",
    "housefhsz=gpd.read_parquet('../Data/Processed/buildings/housefhsz_addhousetypes.parquet')\n",
    "\n",
    "len(housefhsz.query('newhouse==1'))\n",
    "\n",
    "housefhsz.head(1)"
   ]
  },
  {
   "cell_type": "code",
   "execution_count": null,
   "metadata": {},
   "outputs": [
    {
     "name": "stdout",
     "output_type": "stream",
     "text": [
      "2010 203354 203354\n",
      "2022 209356 209356\n",
      "Index(['FID_Califo', 'WUICLASS_2', 'WUIFLAG202', 'GEOID', 'FHSZ_7Clas',\n",
      "       'COUNTYFP', 'geometry', 'newhouse', 'cluster15', 'cluster50',\n",
      "       'allhousecountbybuffer50', 'allhousecountbybuffer15', 'housingclass',\n",
      "       'areaall2010', 'areabare2010', 'areagrass2010', 'areatree2010',\n",
      "       'areaurban2010', 'cluster2010'],\n",
      "      dtype='object')\n",
      "Index(['FID_Califo', 'WUICLASS_2', 'WUIFLAG202', 'GEOID', 'FHSZ_7Clas',\n",
      "       'COUNTYFP', 'geometry', 'newhouse', 'cluster15', 'cluster50',\n",
      "       'allhousecountbybuffer50', 'allhousecountbybuffer15', 'housingclass',\n",
      "       'index_right', 'cluster2022', 'areaall2022', 'areatree2022'],\n",
      "      dtype='object')\n",
      "Index(['FID_Califo', 'WUICLASS_2', 'WUIFLAG202', 'GEOID', 'FHSZ_7Clas',\n",
      "       'COUNTYFP', 'geometry', 'newhouse', 'cluster15', 'cluster50',\n",
      "       'allhousecountbybuffer50', 'allhousecountbybuffer15', 'housingclass',\n",
      "       'areaall2010', 'areabare2010', 'areagrass2010', 'areatree2010',\n",
      "       'areaurban2010', 'cluster2010', 'cluster2022', 'areaall2022',\n",
      "       'areatree2022'],\n",
      "      dtype='object')\n",
      "len of duplicate_rows 251\n",
      "len of duplicate_rows 166\n",
      "len of duplicate_rows 0\n"
     ]
    }
   ],
   "source": [
    "def resolve_duplicates(group):\n",
    "    '''\n",
    "    In the results exported from GEE, few buildings belong to two clusters, which causes these buildings to have multiple tree cover values.\n",
    "    The issue is caused by spatial topological errors in the Microsoft building footprints. \n",
    "    This leads to some buildings having both a large 10m buffer (outside the building boundary) \n",
    "    and a very small buffer (inside the building polygon). \n",
    "    The values associated with the very small buffer should be deleted. \n",
    "    '''\n",
    "    if group['areaall2010'].isna().any() or group['areaall2010'].nunique() == 1:\n",
    "        # 如果 areaall2010 中存在 NaN[newhouseafter2010] 或者 areaall2010 列中的值相同（且不为 NaN），删除 areaall2022 值较小的行\n",
    "        index_to_drop = group['areaall2022'].idxmin()\n",
    "    else:\n",
    "        # 如果 areaall2010 列中的值不相同，删除 areaall2010 值较小的行\n",
    "        index_to_drop = group['areaall2010'].idxmin()\n",
    "        \n",
    "    group = group.drop(index_to_drop)\n",
    "    return group\n",
    "\n",
    "def droprepeativeid(df):\n",
    "\n",
    "    duplicate_rows = df[df.duplicated('FID_Califo', keep=False)]\n",
    "    if len(duplicate_rows)==0:\n",
    "        print('norepeative!')\n",
    "        return df,0\n",
    "    else:\n",
    "        # 分组并应用函数解决重复行\n",
    "        resolved_df = duplicate_rows.groupby('FID_Califo').apply(resolve_duplicates)\n",
    "        # 将处理后的数据框与原数据框中的非重复部分合并\n",
    "        non_duplicate_rows = df[~df.index.isin(duplicate_rows.index)]\n",
    "        final_df = pd.concat([non_duplicate_rows, resolved_df])\n",
    "        # 重置索引\n",
    "        final_df.reset_index(drop=True, inplace=True)\n",
    "        duplicate_rows = final_df[final_df.duplicated('FID_Califo', keep=False)]\n",
    "        print('len of duplicate_rows',len(duplicate_rows))\n",
    "    return final_df,len(duplicate_rows)\n",
    "\n",
    "  \n",
    "\n",
    "def joinclustertreecover_to_singlebuilding(df2010,df2022,housef):\n",
    "    '''\n",
    "    tree cover of each 10 m cluster exported by gee join buildings through unique id'cluster2010'or'cluster2022',\n",
    "    so the tree cover of building within the same cluster is designated as the tree cover of this cluster\n",
    "    '''\n",
    "    df2010f,df2022f=df2010.drop(columns=['COUNTYFP']),df2022.drop(columns=['COUNTYFP'])\n",
    "    ## 2010和2022的10m防护区cluster\n",
    "    cluster2010=gpd.read_parquet('../Data/Processed/buildings/cluster/2010buffer10mdiffhouse_cluster.parquet')\\\n",
    "    .drop(columns=['COUNTYFP'],errors='ignore')\n",
    "    cluster2022=gpd.read_parquet('../Data/Processed/buildings/cluster/2022buffer10mdiffhouse_cluster.parquet')\\\n",
    "    .drop(columns=['COUNTYFP'],errors='ignore')\n",
    "    print('2010',len(df2010f),len(cluster2010))\n",
    "    print('2022',len(df2022f),len(cluster2022))\n",
    "    ## 主要是找到gee导出的每一个cluster所属的geometry boundary through merging variable cluster2010.The '.geo' property exported by gee has a slight difference with local wgs4326.\n",
    "    df2010f=df2010f.merge(cluster2010,on='cluster2010',how='left')\n",
    "    gdf2010f = gpd.GeoDataFrame(df2010f, geometry='geometry', crs='epsg:4326')\n",
    "\n",
    "    df2022f=df2022f.merge(cluster2022,on='cluster2022',how='left')\n",
    "    gdf2022f = gpd.GeoDataFrame(df2022f, geometry='geometry', crs='epsg:4326')\n",
    "    ## 指定每一个建筑在2010和2022的tree cover ratio, also whether it belongs to new or old building.\n",
    "    sat2010f=gpd.sjoin(housef,gdf2010f,how='left').drop(columns=['index_right'], errors='ignore')\n",
    "    print(sat2010f.columns)\n",
    "    sat2022f=gpd.sjoin(housef ,gdf2022f[['geometry','cluster2022','areaall2022', 'areatree2022']],how='left')\n",
    "    print(sat2022f.columns)\n",
    "    ## 每一个建筑2010和2022的tree cover ratio\n",
    "    sat1022f=sat2010f.merge(sat2022f[['FID_Califo','cluster2022','areaall2022', 'areatree2022']],on='FID_Califo',how='left').drop(columns=['index_right'], errors='ignore')\n",
    "    sat1022f['cluster2010']= sat1022f['cluster2010'].fillna('newhouse-noclusterin2010')\n",
    "    print(sat1022f.columns)\n",
    "    ## Remove repeative buildingID caused by topological errors\n",
    "    try:\n",
    "        for i in range(100): \n",
    "            sat1022f, repet = droprepeativeid(sat1022f)\n",
    "            if repet != 0:\n",
    "                continue\n",
    "            sat1022f.to_parquet('../Data/Processed/buildings/buildingswithtreecover/building_addhousetypes_treecover.parquet')\n",
    "            return sat1022f            \n",
    "        if i == 100:  \n",
    "            print(\"Warning: Maximum iterations reached without resolving all duplicates\")\n",
    "            return None\n",
    "    except Exception as e:\n",
    "        print(f\"An error occurred: {e}\")\n",
    "        return None\n",
    "    return sat1022f\n",
    "\n",
    "\n",
    "s1020high=joinclustertreecover_to_singlebuilding(df2010,df2022,housefhsz)"
   ]
  },
  {
   "cell_type": "code",
   "execution_count": 110,
   "metadata": {},
   "outputs": [
    {
     "data": {
      "text/plain": [
       "Index(['FID_Califo', 'WUICLASS_2', 'WUIFLAG202', 'GEOID', 'FHSZ_7Clas',\n",
       "       'COUNTYFP', 'geometry', 'newhouse', 'cluster15', 'cluster50',\n",
       "       'allhousecountbybuffer50', 'allhousecountbybuffer15', 'housingclass',\n",
       "       'areaall2010', 'areabare2010', 'areagrass2010', 'areatree2010',\n",
       "       'areaurban2010', 'cluster2010', 'cluster2022', 'areaall2022',\n",
       "       'areatree2022'],\n",
       "      dtype='object')"
      ]
     },
     "execution_count": 110,
     "metadata": {},
     "output_type": "execute_result"
    }
   ],
   "source": [
    "s1020high.columns"
   ]
  },
  {
   "cell_type": "markdown",
   "metadata": {},
   "source": [
    "## calcluate basic property "
   ]
  },
  {
   "cell_type": "code",
   "execution_count": 115,
   "metadata": {},
   "outputs": [],
   "source": [
    "def addCOUNTYname(df):\n",
    "    county_names = ['San Luis Obispo', 'Santa Barbara', 'Ventura', 'Orange', \n",
    "                    'San Diego', 'Riverside', 'San Bernardino', 'Kern', 'Los Angeles']\n",
    "    county_fips = ['079', '083', '111', '059', '073', '065', '071', '029', '037']\n",
    "\n",
    "    # 创建从 FIPS 代码到县名的映射字典\n",
    "    fips_to_name_map = dict(zip(county_fips, county_names))\n",
    "    df['COUNTY'] = df['COUNTYFP'].map(fips_to_name_map)\n",
    "    return df"
   ]
  },
  {
   "cell_type": "code",
   "execution_count": 116,
   "metadata": {},
   "outputs": [
    {
     "name": "stdout",
     "output_type": "stream",
     "text": [
      "Index(['FID_Califo', 'WUICLASS_2', 'WUIFLAG202', 'GEOID', 'FHSZ_7Clas',\n",
      "       'COUNTYFP', 'geometry', 'newhouse', 'cluster15', 'cluster50',\n",
      "       'allhousecountbybuffer50', 'allhousecountbybuffer15', 'housingclass',\n",
      "       'areaall2010', 'areabare2010', 'areagrass2010', 'areatree2010',\n",
      "       'areaurban2010', 'cluster2010', 'cluster2022', 'areaall2022',\n",
      "       'areatree2022', 'allhcount', 'newhcount', 'treeratio2010',\n",
      "       'treeratio2022', 'treeratiochange', 'COUNTY'],\n",
      "      dtype='object')\n"
     ]
    }
   ],
   "source": [
    "\n",
    "def add_property(sat1022):\n",
    "    sat10221=sat1022.assign(allhcount=sat1022.groupby('cluster2022')['FID_Califo'].transform(lambda x: x.nunique()),\n",
    "    newhcount=sat1022.groupby('cluster2022')['newhouse'].transform(lambda x: (x ==1).sum()))\n",
    "    sat10221['treeratio2010']=sat10221['areatree2010']/sat10221['areaall2010']\n",
    "    sat10221['treeratio2022']=sat10221['areatree2022']/sat10221['areaall2022']\n",
    "    sat10221['treeratiochange']=sat10221['treeratio2022']-sat10221['treeratio2010']\n",
    "    sat10221=addCOUNTYname(sat10221)\n",
    "    print(sat10221.columns)\n",
    "    return sat10221\n",
    "building_addhousetypes_treecover=add_property(s1020high)\n",
    "building_addhousetypes_treecover.to_parquet('../Data/Processed/buildings/buildingswithtreecover/building_addhousetypes_treecover.parquet')"
   ]
  }
 ],
 "metadata": {
  "kernelspec": {
   "display_name": "wui2",
   "language": "python",
   "name": "python3"
  },
  "language_info": {
   "codemirror_mode": {
    "name": "ipython",
    "version": 3
   },
   "file_extension": ".py",
   "mimetype": "text/x-python",
   "name": "python",
   "nbconvert_exporter": "python",
   "pygments_lexer": "ipython3",
   "version": "3.12.7"
  }
 },
 "nbformat": 4,
 "nbformat_minor": 2
}
