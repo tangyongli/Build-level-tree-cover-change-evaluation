{
 "cells": [
  {
   "cell_type": "code",
   "execution_count": null,
   "metadata": {},
   "outputs": [],
   "source": [
    "\n",
    "import geopandas as gpd\n",
    "import pandas as pd\n",
    "from shapely.geometry import *\n",
    "from pyproj import CRS\n",
    "# 设置pandas显示的最大列数\n",
    "pd.set_option('display.max_columns', None)\n",
    "# 设置某一行的最大字符显示长度，防止某列字符过长时被截断\n",
    "pd.set_option('display.max_colwidth', None)\n",
    "pd.set_option('display.max_rows', None)\n",
    "pd.set_option('display.precision', 3)  # 设置小数点显示精度\n",
    "pd.options.display.float_format = \"{:.3f}\".format\n"
   ]
  },
  {
   "cell_type": "markdown",
   "metadata": {},
   "source": [
    "## Extract old houses in fhsz areas"
   ]
  },
  {
   "cell_type": "code",
   "execution_count": 22,
   "metadata": {},
   "outputs": [],
   "source": [
    "## wui houses\n",
    "house=gpd.read_parquet('../Data/Processed/buildings/buildingswui.parquet')\\\n",
    ".query(\"COUNTYFP.isin(['111','037','059','073','079','083','065','071','029'])\")\n",
    "## fhsz tags\n",
    "excluded_classes = [\n",
    "    \"Recommended LRA Very High\",\n",
    "    \"SRA Very High\",\n",
    "    \"SRA High\",\n",
    "    \"Reclassified LRA Very High\",\n",
    "    \"SRA Moderate\",\n",
    "]\n",
    "housefhsz=house.query( 'FHSZ_7Clas in @excluded_classes')"
   ]
  },
  {
   "cell_type": "code",
   "execution_count": 25,
   "metadata": {},
   "outputs": [
    {
     "name": "stdout",
     "output_type": "stream",
     "text": [
      "Index(['Unnamed: 0', 'FID_Califo', 'geometry', 'FHSZ_7Clas', 'COUNTYFP',\n",
      "       'newhouse'],\n",
      "      dtype='object')\n"
     ]
    }
   ],
   "source": [
    "newhousefhsz=pd.read_csv('../Data/Processed/buildings/newhouse.csv')\n",
    "print(newhousefhsz.columns)\n"
   ]
  },
  {
   "cell_type": "code",
   "execution_count": null,
   "metadata": {},
   "outputs": [
    {
     "name": "stdout",
     "output_type": "stream",
     "text": [
      "744381 705506 38875\n"
     ]
    }
   ],
   "source": [
    "# 新增一列'newhouse',表明该building是old or new\n",
    "housefhsz=housefhsz.merge(newhousefhsz[['FID_Califo','newhouse']],on='FID_Califo',how='left')\n",
    "housefhsz['newhouse']=housefhsz['newhouse'].fillna(0)\n",
    "oldhousefhsz= housefhsz[~housefhsz['FID_Califo'].isin(newhousefhsz['FID_Califo'])]\n",
    "print(len(housefhsz),len(oldhousefhsz),len(newhousefhsz))"
   ]
  },
  {
   "cell_type": "markdown",
   "metadata": {},
   "source": [
    "# Create 10m defensible areas for years 2010 and 2022"
   ]
  },
  {
   "cell_type": "code",
   "execution_count": null,
   "metadata": {},
   "outputs": [],
   "source": [
    "def clusterandbufferhousefhsz(meter1,fp,year):\n",
    "    if year==2022: \n",
    "        housef=house[house['COUNTYFP'] == fp]\n",
    "        # housef=house\n",
    "    if year==2010:\n",
    "        # housef=oldhouse[oldhouse['COUNTYFP'] == fp]\n",
    "        housef=oldhousefhsz\n",
    "    expected_crs = CRS(\"EPSG:5070\")\n",
    "    if housef.crs==expected_crs:\n",
    "        # Create 10mbuffer around houses and dissolve overlapping buffers into single geometries.\n",
    "        dissolved10 = housef.geometry.buffer(meter1).unary_union\n",
    "        # buffer----house's geometry\n",
    "        buffer_minus_houses = dissolved10.difference(housef.geometry.unary_union)\n",
    "        # Handle MultiPolygon and Polygon \n",
    "        if isinstance(buffer_minus_houses, Polygon):\n",
    "            remaining_buffer_polygons = [buffer_minus_houses]\n",
    "        elif isinstance(buffer_minus_houses, MultiPolygon):\n",
    "            remaining_buffer_polygons = list(buffer_minus_houses.geoms)\n",
    "        else:\n",
    "            remaining_buffer_polygons = []\n",
    "        # Create GeoDataFrame for remaining buffer after subtracting houses\n",
    "        remaining_buffer_gdf = gpd.GeoDataFrame(geometry=remaining_buffer_polygons, crs=\"EPSG:5070\")\n",
    "        # Output: GeoDataFrame with buffer polygons after subtracting overlapping houses.\n",
    "        # print(remaining_buffer_gdf.head(2))\n",
    "        remaining_buffer_gdf = remaining_buffer_gdf.to_crs(\"EPSG:4326\")\n",
    "        remaining_buffer_gdf.reset_index(inplace=True)\n",
    "        remaining_buffer_gdf.rename(columns={'index': 'cluster'}, inplace=True)\n",
    "        remaining_buffer_gdf['COUNTYFP']=fp\n",
    "        # remaining_buffer_gdf.to_file(f'../Data/Processed/Building/cluster/{year}/fhsz10m/{year}buffer10mdiffhouseallfhsz.gpkg')\n",
    "        # print(f'finish{fp}')\n",
    "        return remaining_buffer_gdf"
   ]
  },
  {
   "cell_type": "code",
   "execution_count": null,
   "metadata": {},
   "outputs": [],
   "source": [
    "clusterandbufferhousefhsz(10,'079',2022)\n",
    "# clusterandbufferhousefhsz(10,'083',2022)\n",
    "# clusterandbufferhousefhsz(10,'111',2022)\n",
    "# clusterandbufferhousefhsz(10,'037',2022)\n",
    "# clusterandbufferhousefhsz(10,'059',2022)\n",
    "# clusterandbufferhousefhsz(10,'073',2022)\n",
    "# clusterandbufferhousefhsz(10,'065',2022)\n",
    "# clusterandbufferhousefhsz(10,'071',2022)\n",
    "# clusterandbufferhousefhsz(10,'029',2022)\n",
    "\n",
    "\n"
   ]
  },
  {
   "cell_type": "markdown",
   "metadata": {},
   "source": [
    "# Dividing housing types"
   ]
  },
  {
   "cell_type": "code",
   "execution_count": null,
   "metadata": {},
   "outputs": [],
   "source": [
    "def clusterhouse(meter1,fp,year):\n",
    "    if year==2022:\n",
    "        housef=housefhsz[housefhsz['COUNTYFP'] == fp]\n",
    "    print(len(housef))\n",
    "    expected_crs = CRS(\"EPSG:5070\")\n",
    "    if housef.crs==expected_crs:\n",
    "        # Create 10mbuffer around houses and dissolve overlapping buffers into single geometries.\n",
    "        buffer_minus_houses = housef.geometry.buffer(meter1).unary_union\n",
    "        # Handle MultiPolygon and Polygon cases\n",
    "        if isinstance(buffer_minus_houses, Polygon):\n",
    "            remaining_buffer_polygons = [buffer_minus_houses]\n",
    "        elif isinstance(buffer_minus_houses, MultiPolygon):\n",
    "            remaining_buffer_polygons = list(buffer_minus_houses.geoms)\n",
    "        else:\n",
    "            remaining_buffer_polygons = []\n",
    " \n",
    "        remaining_buffer_gdf = gpd.GeoDataFrame(geometry=remaining_buffer_polygons, crs=\"EPSG:5070\")\n",
    "        remaining_buffer_gdf = remaining_buffer_gdf.to_crs(\"EPSG:4326\")\n",
    "        remaining_buffer_gdf.reset_index(inplace=True)\n",
    "        remaining_buffer_gdf.rename(columns={'index': 'cluster'}, inplace=True)\n",
    "       \n",
    "        remaining_buffer_gdf['COUNTYFP']=fp\n",
    "        remaining_buffer_gdf[f'cluster{meter1}']= remaining_buffer_gdf['COUNTYFP']+  remaining_buffer_gdf['cluster'].astype(str)+'000'\n",
    "        remaining_buffer_gdf.drop(columns='cluster',inplace=True)\n",
    "        # remaining_buffer_gdf.to_file(f'../data/Building/cluster/housingtype/{year}buffer{meter1}mdiffhouse{fp}fhsz.gpkg')\n",
    "        # print(f'finish{fp}')\n",
    "        return remaining_buffer_gdf"
   ]
  },
  {
   "cell_type": "code",
   "execution_count": 28,
   "metadata": {},
   "outputs": [
    {
     "name": "stdout",
     "output_type": "stream",
     "text": [
      "56602\n"
     ]
    },
    {
     "name": "stderr",
     "output_type": "stream",
     "text": [
      "/tmp/ipykernel_1122222/4293891712.py:8: DeprecationWarning: The 'unary_union' attribute is deprecated, use the 'union_all()' method instead.\n",
      "  buffer_minus_houses = housef.geometry.buffer(meter1).unary_union\n"
     ]
    },
    {
     "name": "stdout",
     "output_type": "stream",
     "text": [
      "22360\n"
     ]
    },
    {
     "name": "stderr",
     "output_type": "stream",
     "text": [
      "/tmp/ipykernel_1122222/4293891712.py:8: DeprecationWarning: The 'unary_union' attribute is deprecated, use the 'union_all()' method instead.\n",
      "  buffer_minus_houses = housef.geometry.buffer(meter1).unary_union\n"
     ]
    },
    {
     "name": "stdout",
     "output_type": "stream",
     "text": [
      "188363\n"
     ]
    },
    {
     "name": "stderr",
     "output_type": "stream",
     "text": [
      "/tmp/ipykernel_1122222/4293891712.py:8: DeprecationWarning: The 'unary_union' attribute is deprecated, use the 'union_all()' method instead.\n",
      "  buffer_minus_houses = housef.geometry.buffer(meter1).unary_union\n"
     ]
    },
    {
     "name": "stdout",
     "output_type": "stream",
     "text": [
      "55123\n"
     ]
    },
    {
     "name": "stderr",
     "output_type": "stream",
     "text": [
      "/tmp/ipykernel_1122222/4293891712.py:8: DeprecationWarning: The 'unary_union' attribute is deprecated, use the 'union_all()' method instead.\n",
      "  buffer_minus_houses = housef.geometry.buffer(meter1).unary_union\n"
     ]
    },
    {
     "name": "stdout",
     "output_type": "stream",
     "text": [
      "173550\n"
     ]
    },
    {
     "name": "stderr",
     "output_type": "stream",
     "text": [
      "/tmp/ipykernel_1122222/4293891712.py:8: DeprecationWarning: The 'unary_union' attribute is deprecated, use the 'union_all()' method instead.\n",
      "  buffer_minus_houses = housef.geometry.buffer(meter1).unary_union\n"
     ]
    },
    {
     "name": "stdout",
     "output_type": "stream",
     "text": [
      "97708\n"
     ]
    },
    {
     "name": "stderr",
     "output_type": "stream",
     "text": [
      "/tmp/ipykernel_1122222/4293891712.py:8: DeprecationWarning: The 'unary_union' attribute is deprecated, use the 'union_all()' method instead.\n",
      "  buffer_minus_houses = housef.geometry.buffer(meter1).unary_union\n"
     ]
    },
    {
     "name": "stdout",
     "output_type": "stream",
     "text": [
      "92871\n"
     ]
    },
    {
     "name": "stderr",
     "output_type": "stream",
     "text": [
      "/tmp/ipykernel_1122222/4293891712.py:8: DeprecationWarning: The 'unary_union' attribute is deprecated, use the 'union_all()' method instead.\n",
      "  buffer_minus_houses = housef.geometry.buffer(meter1).unary_union\n"
     ]
    },
    {
     "name": "stdout",
     "output_type": "stream",
     "text": [
      "28876\n"
     ]
    },
    {
     "name": "stderr",
     "output_type": "stream",
     "text": [
      "/tmp/ipykernel_1122222/4293891712.py:8: DeprecationWarning: The 'unary_union' attribute is deprecated, use the 'union_all()' method instead.\n",
      "  buffer_minus_houses = housef.geometry.buffer(meter1).unary_union\n"
     ]
    },
    {
     "name": "stdout",
     "output_type": "stream",
     "text": [
      "28928\n"
     ]
    },
    {
     "name": "stderr",
     "output_type": "stream",
     "text": [
      "/tmp/ipykernel_1122222/4293891712.py:8: DeprecationWarning: The 'unary_union' attribute is deprecated, use the 'union_all()' method instead.\n",
      "  buffer_minus_houses = housef.geometry.buffer(meter1).unary_union\n"
     ]
    },
    {
     "name": "stdout",
     "output_type": "stream",
     "text": [
      "15m buffer cluster finished!\n",
      "56602\n"
     ]
    },
    {
     "name": "stderr",
     "output_type": "stream",
     "text": [
      "/tmp/ipykernel_1122222/4293891712.py:8: DeprecationWarning: The 'unary_union' attribute is deprecated, use the 'union_all()' method instead.\n",
      "  buffer_minus_houses = housef.geometry.buffer(meter1).unary_union\n"
     ]
    },
    {
     "name": "stdout",
     "output_type": "stream",
     "text": [
      "22360\n"
     ]
    },
    {
     "name": "stderr",
     "output_type": "stream",
     "text": [
      "/tmp/ipykernel_1122222/4293891712.py:8: DeprecationWarning: The 'unary_union' attribute is deprecated, use the 'union_all()' method instead.\n",
      "  buffer_minus_houses = housef.geometry.buffer(meter1).unary_union\n"
     ]
    },
    {
     "name": "stdout",
     "output_type": "stream",
     "text": [
      "188363\n"
     ]
    },
    {
     "name": "stderr",
     "output_type": "stream",
     "text": [
      "/tmp/ipykernel_1122222/4293891712.py:8: DeprecationWarning: The 'unary_union' attribute is deprecated, use the 'union_all()' method instead.\n",
      "  buffer_minus_houses = housef.geometry.buffer(meter1).unary_union\n"
     ]
    },
    {
     "name": "stdout",
     "output_type": "stream",
     "text": [
      "55123\n"
     ]
    },
    {
     "name": "stderr",
     "output_type": "stream",
     "text": [
      "/tmp/ipykernel_1122222/4293891712.py:8: DeprecationWarning: The 'unary_union' attribute is deprecated, use the 'union_all()' method instead.\n",
      "  buffer_minus_houses = housef.geometry.buffer(meter1).unary_union\n"
     ]
    },
    {
     "name": "stdout",
     "output_type": "stream",
     "text": [
      "173550\n"
     ]
    },
    {
     "name": "stderr",
     "output_type": "stream",
     "text": [
      "/tmp/ipykernel_1122222/4293891712.py:8: DeprecationWarning: The 'unary_union' attribute is deprecated, use the 'union_all()' method instead.\n",
      "  buffer_minus_houses = housef.geometry.buffer(meter1).unary_union\n"
     ]
    },
    {
     "name": "stdout",
     "output_type": "stream",
     "text": [
      "97708\n"
     ]
    },
    {
     "name": "stderr",
     "output_type": "stream",
     "text": [
      "/tmp/ipykernel_1122222/4293891712.py:8: DeprecationWarning: The 'unary_union' attribute is deprecated, use the 'union_all()' method instead.\n",
      "  buffer_minus_houses = housef.geometry.buffer(meter1).unary_union\n"
     ]
    },
    {
     "name": "stdout",
     "output_type": "stream",
     "text": [
      "92871\n"
     ]
    },
    {
     "name": "stderr",
     "output_type": "stream",
     "text": [
      "/tmp/ipykernel_1122222/4293891712.py:8: DeprecationWarning: The 'unary_union' attribute is deprecated, use the 'union_all()' method instead.\n",
      "  buffer_minus_houses = housef.geometry.buffer(meter1).unary_union\n"
     ]
    },
    {
     "name": "stdout",
     "output_type": "stream",
     "text": [
      "28876\n"
     ]
    },
    {
     "name": "stderr",
     "output_type": "stream",
     "text": [
      "/tmp/ipykernel_1122222/4293891712.py:8: DeprecationWarning: The 'unary_union' attribute is deprecated, use the 'union_all()' method instead.\n",
      "  buffer_minus_houses = housef.geometry.buffer(meter1).unary_union\n"
     ]
    },
    {
     "name": "stdout",
     "output_type": "stream",
     "text": [
      "28928\n"
     ]
    },
    {
     "name": "stderr",
     "output_type": "stream",
     "text": [
      "/tmp/ipykernel_1122222/4293891712.py:8: DeprecationWarning: The 'unary_union' attribute is deprecated, use the 'union_all()' method instead.\n",
      "  buffer_minus_houses = housef.geometry.buffer(meter1).unary_union\n"
     ]
    }
   ],
   "source": [
    "def cluster15and50(housefhsz,meter1,meter2):\n",
    "\n",
    "    \n",
    "    s111=clusterhouse(meter1,'111',2022)\n",
    "    s083=clusterhouse(meter1,'083',2022)\n",
    "    s037=clusterhouse(meter1,'037',2022)\n",
    "    s059=clusterhouse(meter1,'059',2022)\n",
    "\n",
    "    s073=clusterhouse(meter1,'073',2022)\n",
    "    s071=clusterhouse(meter1,'071',2022)\n",
    "    s065=clusterhouse(meter1,'065',2022)\n",
    "    s079=clusterhouse(meter1,'079',2022)\n",
    "    s029=clusterhouse(meter1,'029',2022)\n",
    "    sbuffermeter1=pd.concat([s079,s029,s083,s111,s037,s059,s073,s065,s071],axis=0)\n",
    "    print('15m buffer cluster finished!')\n",
    "    s111=clusterhouse(meter2,'111',2022)\n",
    "    s083=clusterhouse(meter2,'083',2022)\n",
    "    s037=clusterhouse(meter2,'037',2022)\n",
    "    s059=clusterhouse(meter2,'059',2022)\n",
    "    s073=clusterhouse(meter2,'073',2022)\n",
    "    s071=clusterhouse(meter2,'071',2022)\n",
    "    s065=clusterhouse(meter2,'065',2022)\n",
    "    s079=clusterhouse(meter2,'079',2022)\n",
    "    s029=clusterhouse(meter2,'029',2022)\n",
    "    sbuffermeter2=pd.concat([s079,s029,s083,s111,s037,s059,s073,s065,s071],axis=0)\n",
    "    if housefhsz.crs!=sbuffermeter1.crs:\n",
    "        housefhsz=housefhsz.to_crs(sbuffermeter1.crs)\n",
    "    # COUNTYFP_left[housefhsz],COUNTYFP_right[sbuffermeter1]\n",
    "    try:\n",
    "        sbuffer15joinhouse=gpd.sjoin(housefhsz,sbuffermeter1,how='left')\n",
    "        sbuffer50joinhouse=gpd.sjoin(housefhsz,sbuffermeter2,how='left')\n",
    "        return sbuffer15joinhouse,sbuffer50joinhouse\n",
    "    except Exception as e:\n",
    "        print(f\"An error occurred: {e}\")\n",
    "        return sbuffermeter1,sbuffermeter2\n",
    " \n",
    "housefhsz=housefhsz.to_crs('epsg:5070')\n",
    "sbuffer15joinhouse,sbuffer50joinhouse=cluster15and50(housefhsz,15,50)"
   ]
  },
  {
   "cell_type": "code",
   "execution_count": 29,
   "metadata": {},
   "outputs": [
    {
     "name": "stdout",
     "output_type": "stream",
     "text": [
      "29\n"
     ]
    }
   ],
   "source": [
    "### 属于countryA边界的房子在聚类时可能落在countryA的buffer中，也可能落在邻近的countryB的房子的buffer中,由于这个房子的质心位于countryA,这个房子属于的buffer应该是countryA的buffer.\n",
    "sbuffer15joinhouse1=sbuffer15joinhouse.query('COUNTYFP_left==COUNTYFP_right')\n",
    "sbuffer50joinhouse1=sbuffer50joinhouse.query('COUNTYFP_left==COUNTYFP_right')\n",
    "print(len(sbuffer15joinhouse.query('COUNTYFP_left!=COUNTYFP_right')))\n"
   ]
  },
  {
   "cell_type": "code",
   "execution_count": 30,
   "metadata": {},
   "outputs": [],
   "source": [
    "def addhousecount(df1,df2):\n",
    "    df=df1.merge(df2[['FID_Califo','cluster50']],on='FID_Califo',how='left')\n",
    "    df=df.assign(allhousecountbybuffer50=df.groupby('cluster50')['FID_Califo'].transform(lambda x: x.nunique()),\n",
    "                allhousecountbybuffer15=df.groupby('cluster15')['FID_Califo'].transform(lambda x: x.nunique()))  \n",
    "                                                                                                     \n",
    "    return df\n",
    "housefhsz=addhousecount(sbuffer15joinhouse1,sbuffer50joinhouse1)"
   ]
  },
  {
   "cell_type": "code",
   "execution_count": 31,
   "metadata": {},
   "outputs": [
    {
     "name": "stdout",
     "output_type": "stream",
     "text": [
      "housingclass\n",
      "very dense    481619\n",
      "dense         156448\n",
      "scattered      78854\n",
      "isolated       27460\n",
      "Name: count, dtype: int64\n"
     ]
    }
   ],
   "source": [
    "def addhousetypesbybuffer1550(df):\n",
    "    \n",
    "    df['housingclass'] = df['allhousecountbybuffer50'].apply(\n",
    "        lambda x: 'clustered' if x >50 else 'scattered')\n",
    "    df.loc[df['allhousecountbybuffer50'] <=3, 'housingclass'] = 'isolated'\n",
    "    \n",
    "    df.loc[(df['allhousecountbybuffer15'] <= 10) & (df['housingclass'].isin(['clustered'])), 'housingclass'] = 'dense'\n",
    "    \n",
    "    df.loc[(df['allhousecountbybuffer15'] > 10) & (df['housingclass'].isin(['clustered'])), 'housingclass'] = 'very dense'\n",
    "  \n",
    "    print(df['housingclass'].value_counts())\n",
    "    return df\n",
    "housefhsz=addhousetypesbybuffer1550(housefhsz)"
   ]
  },
  {
   "cell_type": "code",
   "execution_count": 35,
   "metadata": {},
   "outputs": [],
   "source": [
    "housefhsz=housefhsz.rename(columns={'COUNTYFP_left':'COUNTYFP'}).drop(columns=['index_right','COUNTYFP_right'])"
   ]
  },
  {
   "cell_type": "code",
   "execution_count": 36,
   "metadata": {},
   "outputs": [
    {
     "data": {
      "text/plain": [
       "Index(['FID_Califo', 'WUICLASS_2', 'WUIFLAG202', 'GEOID', 'FHSZ_7Clas',\n",
       "       'COUNTYFP', 'geometry', 'newhouse', 'cluster', 'cluster15', 'cluster50',\n",
       "       'allhousecountbybuffer50', 'allhousecountbybuffer15', 'housingclass'],\n",
       "      dtype='object')"
      ]
     },
     "execution_count": 36,
     "metadata": {},
     "output_type": "execute_result"
    }
   ],
   "source": [
    "housefhsz.columns"
   ]
  },
  {
   "cell_type": "code",
   "execution_count": 37,
   "metadata": {},
   "outputs": [],
   "source": [
    "housefhsz.to_parquet('../Data/Processed/buildings/housefhsz_addhousetypes.parquet')"
   ]
  }
 ],
 "metadata": {
  "kernelspec": {
   "display_name": "wui2",
   "language": "python",
   "name": "python3"
  },
  "language_info": {
   "codemirror_mode": {
    "name": "ipython",
    "version": 3
   },
   "file_extension": ".py",
   "mimetype": "text/x-python",
   "name": "python",
   "nbconvert_exporter": "python",
   "pygments_lexer": "ipython3",
   "version": "3.12.7"
  }
 },
 "nbformat": 4,
 "nbformat_minor": 2
}
